{
 "cells": [
  {
   "cell_type": "code",
   "execution_count": 1,
   "id": "84cef075",
   "metadata": {},
   "outputs": [],
   "source": [
    "import numpy as np\n",
    "import pandas as pd\n",
    "import matplotlib.pyplot as plt"
   ]
  },
  {
   "cell_type": "code",
   "execution_count": 2,
   "id": "d992e76a",
   "metadata": {},
   "outputs": [],
   "source": [
    "google = pd.read_csv(\"data/google.csv\", parse_dates=[\"Date\"], index_col=\"Date\")"
   ]
  },
  {
   "cell_type": "code",
   "execution_count": 3,
   "id": "4ed3bf5c",
   "metadata": {},
   "outputs": [
    {
     "data": {
      "text/html": [
       "<div>\n",
       "<style scoped>\n",
       "    .dataframe tbody tr th:only-of-type {\n",
       "        vertical-align: middle;\n",
       "    }\n",
       "\n",
       "    .dataframe tbody tr th {\n",
       "        vertical-align: top;\n",
       "    }\n",
       "\n",
       "    .dataframe thead th {\n",
       "        text-align: right;\n",
       "    }\n",
       "</style>\n",
       "<table border=\"1\" class=\"dataframe\">\n",
       "  <thead>\n",
       "    <tr style=\"text-align: right;\">\n",
       "      <th></th>\n",
       "      <th>Close</th>\n",
       "    </tr>\n",
       "    <tr>\n",
       "      <th>Date</th>\n",
       "      <th></th>\n",
       "    </tr>\n",
       "  </thead>\n",
       "  <tbody>\n",
       "    <tr>\n",
       "      <th>2014-01-02</th>\n",
       "      <td>556.00</td>\n",
       "    </tr>\n",
       "    <tr>\n",
       "      <th>2014-01-03</th>\n",
       "      <td>551.95</td>\n",
       "    </tr>\n",
       "    <tr>\n",
       "      <th>2014-01-04</th>\n",
       "      <td>NaN</td>\n",
       "    </tr>\n",
       "    <tr>\n",
       "      <th>2014-01-05</th>\n",
       "      <td>NaN</td>\n",
       "    </tr>\n",
       "    <tr>\n",
       "      <th>2014-01-06</th>\n",
       "      <td>558.10</td>\n",
       "    </tr>\n",
       "  </tbody>\n",
       "</table>\n",
       "</div>"
      ],
      "text/plain": [
       "             Close\n",
       "Date              \n",
       "2014-01-02  556.00\n",
       "2014-01-03  551.95\n",
       "2014-01-04     NaN\n",
       "2014-01-05     NaN\n",
       "2014-01-06  558.10"
      ]
     },
     "execution_count": 3,
     "metadata": {},
     "output_type": "execute_result"
    }
   ],
   "source": [
    "google.head()"
   ]
  },
  {
   "cell_type": "code",
   "execution_count": 4,
   "id": "0d4a4f45",
   "metadata": {},
   "outputs": [
    {
     "data": {
      "text/html": [
       "<div>\n",
       "<style scoped>\n",
       "    .dataframe tbody tr th:only-of-type {\n",
       "        vertical-align: middle;\n",
       "    }\n",
       "\n",
       "    .dataframe tbody tr th {\n",
       "        vertical-align: top;\n",
       "    }\n",
       "\n",
       "    .dataframe thead th {\n",
       "        text-align: right;\n",
       "    }\n",
       "</style>\n",
       "<table border=\"1\" class=\"dataframe\">\n",
       "  <thead>\n",
       "    <tr style=\"text-align: right;\">\n",
       "      <th></th>\n",
       "      <th>Close</th>\n",
       "    </tr>\n",
       "    <tr>\n",
       "      <th>Date</th>\n",
       "      <th></th>\n",
       "    </tr>\n",
       "  </thead>\n",
       "  <tbody>\n",
       "    <tr>\n",
       "      <th>2016-12-26</th>\n",
       "      <td>NaN</td>\n",
       "    </tr>\n",
       "    <tr>\n",
       "      <th>2016-12-27</th>\n",
       "      <td>791.55</td>\n",
       "    </tr>\n",
       "    <tr>\n",
       "      <th>2016-12-28</th>\n",
       "      <td>785.05</td>\n",
       "    </tr>\n",
       "    <tr>\n",
       "      <th>2016-12-29</th>\n",
       "      <td>782.79</td>\n",
       "    </tr>\n",
       "    <tr>\n",
       "      <th>2016-12-30</th>\n",
       "      <td>771.82</td>\n",
       "    </tr>\n",
       "  </tbody>\n",
       "</table>\n",
       "</div>"
      ],
      "text/plain": [
       "             Close\n",
       "Date              \n",
       "2016-12-26     NaN\n",
       "2016-12-27  791.55\n",
       "2016-12-28  785.05\n",
       "2016-12-29  782.79\n",
       "2016-12-30  771.82"
      ]
     },
     "execution_count": 4,
     "metadata": {},
     "output_type": "execute_result"
    }
   ],
   "source": [
    "google.tail()"
   ]
  },
  {
   "cell_type": "code",
   "execution_count": 5,
   "id": "6efa273b",
   "metadata": {},
   "outputs": [],
   "source": [
    "first_price = google.Close.iloc[0]"
   ]
  },
  {
   "cell_type": "code",
   "execution_count": 6,
   "id": "71018527",
   "metadata": {},
   "outputs": [
    {
     "data": {
      "text/plain": [
       "556.0"
      ]
     },
     "execution_count": 6,
     "metadata": {},
     "output_type": "execute_result"
    }
   ],
   "source": [
    "first_price"
   ]
  },
  {
   "cell_type": "code",
   "execution_count": 7,
   "id": "4fef4d08",
   "metadata": {},
   "outputs": [],
   "source": [
    "#Normalizing a single series\n",
    "normalized = google.Close.div(first_price).mul(100)"
   ]
  },
  {
   "cell_type": "code",
   "execution_count": 8,
   "id": "c25a31ba",
   "metadata": {},
   "outputs": [
    {
     "data": {
      "text/plain": [
       "<AxesSubplot:title={'center':'Google Normalized Series'}, xlabel='Date'>"
      ]
     },
     "execution_count": 8,
     "metadata": {},
     "output_type": "execute_result"
    },
    {
     "data": {
      "image/png": "[encoded data removed]",
      "text/plain": [
       "<Figure size 432x288 with 1 Axes>"
      ]
     },
     "metadata": {
      "needs_background": "light"
     },
     "output_type": "display_data"
    }
   ],
   "source": [
    "normalized.plot(title=\"Google Normalized Series\")"
   ]
  },
  {
   "cell_type": "code",
   "execution_count": 9,
   "id": "c78a1ac4",
   "metadata": {},
   "outputs": [
    {
     "data": {
      "text/plain": [
       "Date\n",
       "2014-01-02    100.000000\n",
       "2014-01-03     99.271583\n",
       "2014-01-04           NaN\n",
       "2014-01-05           NaN\n",
       "2014-01-06    100.377698\n",
       "                 ...    \n",
       "2016-12-26           NaN\n",
       "2016-12-27    142.365108\n",
       "2016-12-28    141.196043\n",
       "2016-12-29    140.789568\n",
       "2016-12-30    138.816547\n",
       "Name: Close, Length: 1094, dtype: float64"
      ]
     },
     "execution_count": 9,
     "metadata": {},
     "output_type": "execute_result"
    }
   ],
   "source": [
    "normalized"
   ]
  },
  {
   "cell_type": "code",
   "execution_count": null,
   "id": "7d92dde3",
   "metadata": {},
   "outputs": [],
   "source": []
  },
  {
   "cell_type": "code",
   "execution_count": 10,
   "id": "9916a1e1",
   "metadata": {},
   "outputs": [],
   "source": [
    "prices = pd.read_csv(\"data/asset_classes.csv\", index_col=\"DATE\",parse_dates=[\"DATE\"])"
   ]
  },
  {
   "cell_type": "code",
   "execution_count": 11,
   "id": "ff67d114",
   "metadata": {},
   "outputs": [
    {
     "name": "stdout",
     "output_type": "stream",
     "text": [
      "<class 'pandas.core.frame.DataFrame'>\n",
      "DatetimeIndex: 2469 entries, 2007-06-29 to 2017-06-26\n",
      "Data columns (total 4 columns):\n",
      " #   Column  Non-Null Count  Dtype  \n",
      "---  ------  --------------  -----  \n",
      " 0   SP500   2469 non-null   float64\n",
      " 1   Bonds   2469 non-null   float64\n",
      " 2   Gold    2469 non-null   float64\n",
      " 3   Oil     2469 non-null   float64\n",
      "dtypes: float64(4)\n",
      "memory usage: 96.4 KB\n"
     ]
    }
   ],
   "source": [
    "prices.info()"
   ]
  },
  {
   "cell_type": "code",
   "execution_count": 12,
   "id": "a8681714",
   "metadata": {},
   "outputs": [
    {
     "data": {
      "text/html": [
       "<div>\n",
       "<style scoped>\n",
       "    .dataframe tbody tr th:only-of-type {\n",
       "        vertical-align: middle;\n",
       "    }\n",
       "\n",
       "    .dataframe tbody tr th {\n",
       "        vertical-align: top;\n",
       "    }\n",
       "\n",
       "    .dataframe thead th {\n",
       "        text-align: right;\n",
       "    }\n",
       "</style>\n",
       "<table border=\"1\" class=\"dataframe\">\n",
       "  <thead>\n",
       "    <tr style=\"text-align: right;\">\n",
       "      <th></th>\n",
       "      <th>SP500</th>\n",
       "      <th>Bonds</th>\n",
       "      <th>Gold</th>\n",
       "      <th>Oil</th>\n",
       "    </tr>\n",
       "    <tr>\n",
       "      <th>DATE</th>\n",
       "      <th></th>\n",
       "      <th></th>\n",
       "      <th></th>\n",
       "      <th></th>\n",
       "    </tr>\n",
       "  </thead>\n",
       "  <tbody>\n",
       "    <tr>\n",
       "      <th>2007-06-29</th>\n",
       "      <td>1503.35</td>\n",
       "      <td>402.15</td>\n",
       "      <td>648.50</td>\n",
       "      <td>70.47</td>\n",
       "    </tr>\n",
       "    <tr>\n",
       "      <th>2007-07-02</th>\n",
       "      <td>1519.43</td>\n",
       "      <td>402.96</td>\n",
       "      <td>650.50</td>\n",
       "      <td>71.11</td>\n",
       "    </tr>\n",
       "    <tr>\n",
       "      <th>2007-07-03</th>\n",
       "      <td>1524.87</td>\n",
       "      <td>402.02</td>\n",
       "      <td>657.25</td>\n",
       "      <td>71.41</td>\n",
       "    </tr>\n",
       "    <tr>\n",
       "      <th>2007-07-05</th>\n",
       "      <td>1525.40</td>\n",
       "      <td>400.15</td>\n",
       "      <td>655.90</td>\n",
       "      <td>71.81</td>\n",
       "    </tr>\n",
       "    <tr>\n",
       "      <th>2007-07-06</th>\n",
       "      <td>1530.44</td>\n",
       "      <td>399.31</td>\n",
       "      <td>647.75</td>\n",
       "      <td>72.80</td>\n",
       "    </tr>\n",
       "  </tbody>\n",
       "</table>\n",
       "</div>"
      ],
      "text/plain": [
       "              SP500   Bonds    Gold    Oil\n",
       "DATE                                      \n",
       "2007-06-29  1503.35  402.15  648.50  70.47\n",
       "2007-07-02  1519.43  402.96  650.50  71.11\n",
       "2007-07-03  1524.87  402.02  657.25  71.41\n",
       "2007-07-05  1525.40  400.15  655.90  71.81\n",
       "2007-07-06  1530.44  399.31  647.75  72.80"
      ]
     },
     "execution_count": 12,
     "metadata": {},
     "output_type": "execute_result"
    }
   ],
   "source": [
    "prices.head()"
   ]
  },
  {
   "cell_type": "code",
   "execution_count": 13,
   "id": "ce63bbe0",
   "metadata": {},
   "outputs": [],
   "source": [
    "first = prices.iloc[0]"
   ]
  },
  {
   "cell_type": "code",
   "execution_count": 14,
   "id": "97399f30",
   "metadata": {},
   "outputs": [
    {
     "data": {
      "text/html": [
       "<div>\n",
       "<style scoped>\n",
       "    .dataframe tbody tr th:only-of-type {\n",
       "        vertical-align: middle;\n",
       "    }\n",
       "\n",
       "    .dataframe tbody tr th {\n",
       "        vertical-align: top;\n",
       "    }\n",
       "\n",
       "    .dataframe thead th {\n",
       "        text-align: right;\n",
       "    }\n",
       "</style>\n",
       "<table border=\"1\" class=\"dataframe\">\n",
       "  <thead>\n",
       "    <tr style=\"text-align: right;\">\n",
       "      <th></th>\n",
       "      <th>SP500</th>\n",
       "      <th>Bonds</th>\n",
       "      <th>Gold</th>\n",
       "      <th>Oil</th>\n",
       "    </tr>\n",
       "    <tr>\n",
       "      <th>DATE</th>\n",
       "      <th></th>\n",
       "      <th></th>\n",
       "      <th></th>\n",
       "      <th></th>\n",
       "    </tr>\n",
       "  </thead>\n",
       "  <tbody>\n",
       "    <tr>\n",
       "      <th>2007-06-29</th>\n",
       "      <td>100.000000</td>\n",
       "      <td>100.000000</td>\n",
       "      <td>100.000000</td>\n",
       "      <td>100.000000</td>\n",
       "    </tr>\n",
       "    <tr>\n",
       "      <th>2007-07-02</th>\n",
       "      <td>101.069611</td>\n",
       "      <td>100.201417</td>\n",
       "      <td>100.308404</td>\n",
       "      <td>100.908188</td>\n",
       "    </tr>\n",
       "    <tr>\n",
       "      <th>2007-07-03</th>\n",
       "      <td>101.431470</td>\n",
       "      <td>99.967674</td>\n",
       "      <td>101.349268</td>\n",
       "      <td>101.333901</td>\n",
       "    </tr>\n",
       "    <tr>\n",
       "      <th>2007-07-05</th>\n",
       "      <td>101.466724</td>\n",
       "      <td>99.502673</td>\n",
       "      <td>101.141095</td>\n",
       "      <td>101.901518</td>\n",
       "    </tr>\n",
       "    <tr>\n",
       "      <th>2007-07-06</th>\n",
       "      <td>101.801976</td>\n",
       "      <td>99.293796</td>\n",
       "      <td>99.884348</td>\n",
       "      <td>103.306372</td>\n",
       "    </tr>\n",
       "    <tr>\n",
       "      <th>...</th>\n",
       "      <td>...</td>\n",
       "      <td>...</td>\n",
       "      <td>...</td>\n",
       "      <td>...</td>\n",
       "    </tr>\n",
       "    <tr>\n",
       "      <th>2017-06-20</th>\n",
       "      <td>162.106629</td>\n",
       "      <td>154.628870</td>\n",
       "      <td>192.212799</td>\n",
       "      <td>61.501348</td>\n",
       "    </tr>\n",
       "    <tr>\n",
       "      <th>2017-06-21</th>\n",
       "      <td>162.012173</td>\n",
       "      <td>154.902400</td>\n",
       "      <td>192.297610</td>\n",
       "      <td>60.280971</td>\n",
       "    </tr>\n",
       "    <tr>\n",
       "      <th>2017-06-22</th>\n",
       "      <td>161.938338</td>\n",
       "      <td>154.899913</td>\n",
       "      <td>192.968389</td>\n",
       "      <td>60.351923</td>\n",
       "    </tr>\n",
       "    <tr>\n",
       "      <th>2017-06-23</th>\n",
       "      <td>162.191107</td>\n",
       "      <td>155.059058</td>\n",
       "      <td>193.723978</td>\n",
       "      <td>60.820207</td>\n",
       "    </tr>\n",
       "    <tr>\n",
       "      <th>2017-06-26</th>\n",
       "      <td>162.242325</td>\n",
       "      <td>155.414646</td>\n",
       "      <td>191.341557</td>\n",
       "      <td>61.359444</td>\n",
       "    </tr>\n",
       "  </tbody>\n",
       "</table>\n",
       "<p>2469 rows × 4 columns</p>\n",
       "</div>"
      ],
      "text/plain": [
       "                 SP500       Bonds        Gold         Oil\n",
       "DATE                                                      \n",
       "2007-06-29  100.000000  100.000000  100.000000  100.000000\n",
       "2007-07-02  101.069611  100.201417  100.308404  100.908188\n",
       "2007-07-03  101.431470   99.967674  101.349268  101.333901\n",
       "2007-07-05  101.466724   99.502673  101.141095  101.901518\n",
       "2007-07-06  101.801976   99.293796   99.884348  103.306372\n",
       "...                ...         ...         ...         ...\n",
       "2017-06-20  162.106629  154.628870  192.212799   61.501348\n",
       "2017-06-21  162.012173  154.902400  192.297610   60.280971\n",
       "2017-06-22  161.938338  154.899913  192.968389   60.351923\n",
       "2017-06-23  162.191107  155.059058  193.723978   60.820207\n",
       "2017-06-26  162.242325  155.414646  191.341557   61.359444\n",
       "\n",
       "[2469 rows x 4 columns]"
      ]
     },
     "execution_count": 14,
     "metadata": {},
     "output_type": "execute_result"
    }
   ],
   "source": [
    "normalized = prices.div(prices.iloc[0]).mul(100)\n",
    "normalized"
   ]
  },
  {
   "cell_type": "code",
   "execution_count": 15,
   "id": "606d57a9",
   "metadata": {
    "scrolled": false
   },
   "outputs": [
    {
     "data": {
      "text/plain": [
       "array([<AxesSubplot:xlabel='DATE'>, <AxesSubplot:xlabel='DATE'>,\n",
       "       <AxesSubplot:xlabel='DATE'>, <AxesSubplot:xlabel='DATE'>],\n",
       "      dtype=object)"
      ]
     },
     "execution_count": 15,
     "metadata": {},
     "output_type": "execute_result"
    },
    {
     "data": {
      "image/png": "[encoded data removed]",
      "text/plain": [
       "<Figure size 432x288 with 4 Axes>"
      ]
     },
     "metadata": {
      "needs_background": "light"
     },
     "output_type": "display_data"
    }
   ],
   "source": [
    "normalized.plot(subplots=True)"
   ]
  },
  {
   "cell_type": "code",
   "execution_count": null,
   "id": "d38bb968",
   "metadata": {},
   "outputs": [],
   "source": []
  },
  {
   "cell_type": "code",
   "execution_count": 16,
   "id": "892fb746",
   "metadata": {},
   "outputs": [],
   "source": [
    "stocks = pd.read_csv(\"data/nyse.csv\", parse_dates=[\"date\"], index_col=\"date\")\n",
    "dow_jones = pd.read_csv(\"data/dow_jones.csv\", parse_dates=[\"date\"], index_col=\"date\")\n"
   ]
  },
  {
   "cell_type": "code",
   "execution_count": 17,
   "id": "66c82246",
   "metadata": {},
   "outputs": [],
   "source": [
    "data=pd.concat([stocks, dow_jones], axis =1)"
   ]
  },
  {
   "cell_type": "code",
   "execution_count": 18,
   "id": "68a2466d",
   "metadata": {},
   "outputs": [
    {
     "data": {
      "text/plain": [
       "JNJ        64.68\n",
       "JPM        42.85\n",
       "XOM        69.15\n",
       "DJIA    10583.96\n",
       "Name: 2010-01-04 00:00:00, dtype: float64"
      ]
     },
     "execution_count": 18,
     "metadata": {},
     "output_type": "execute_result"
    }
   ],
   "source": [
    "f_values = data.iloc[0]\n",
    "f_values"
   ]
  },
  {
   "cell_type": "code",
   "execution_count": 19,
   "id": "ead1b982",
   "metadata": {},
   "outputs": [],
   "source": [
    "normalized_data=data.div(f_values).mul(100)"
   ]
  },
  {
   "cell_type": "code",
   "execution_count": 20,
   "id": "73aa5c95",
   "metadata": {},
   "outputs": [
    {
     "data": {
      "text/plain": [
       "array([<AxesSubplot:xlabel='date'>, <AxesSubplot:xlabel='date'>,\n",
       "       <AxesSubplot:xlabel='date'>, <AxesSubplot:xlabel='date'>],\n",
       "      dtype=object)"
      ]
     },
     "execution_count": 20,
     "metadata": {},
     "output_type": "execute_result"
    },
    {
     "data": {
      "image/png": "[encoded data removed]",
      "text/plain": [
       "<Figure size 432x288 with 4 Axes>"
      ]
     },
     "metadata": {
      "needs_background": "light"
     },
     "output_type": "display_data"
    }
   ],
   "source": [
    "normalized_data.plot(subplots=True)"
   ]
  },
  {
   "cell_type": "code",
   "execution_count": 21,
   "id": "1a092810",
   "metadata": {},
   "outputs": [],
   "source": [
    "#Changing the time series frequency: resampling"
   ]
  },
  {
   "cell_type": "code",
   "execution_count": 27,
   "id": "32407ec5",
   "metadata": {},
   "outputs": [],
   "source": [
    "dates = pd.date_range(start=\"2016\", periods=4, freq='Q')\n",
    "data = range(1,5)\n",
    "quarterly = pd.Series(data=data, index=dates)\n"
   ]
  },
  {
   "cell_type": "code",
   "execution_count": 28,
   "id": "8b330d74",
   "metadata": {},
   "outputs": [
    {
     "data": {
      "text/html": [
       "<div>\n",
       "<style scoped>\n",
       "    .dataframe tbody tr th:only-of-type {\n",
       "        vertical-align: middle;\n",
       "    }\n",
       "\n",
       "    .dataframe tbody tr th {\n",
       "        vertical-align: top;\n",
       "    }\n",
       "\n",
       "    .dataframe thead th {\n",
       "        text-align: right;\n",
       "    }\n",
       "</style>\n",
       "<table border=\"1\" class=\"dataframe\">\n",
       "  <thead>\n",
       "    <tr style=\"text-align: right;\">\n",
       "      <th></th>\n",
       "      <th>baseline</th>\n",
       "    </tr>\n",
       "  </thead>\n",
       "  <tbody>\n",
       "    <tr>\n",
       "      <th>2016-03-31</th>\n",
       "      <td>1.0</td>\n",
       "    </tr>\n",
       "    <tr>\n",
       "      <th>2016-04-30</th>\n",
       "      <td>NaN</td>\n",
       "    </tr>\n",
       "    <tr>\n",
       "      <th>2016-05-31</th>\n",
       "      <td>NaN</td>\n",
       "    </tr>\n",
       "    <tr>\n",
       "      <th>2016-06-30</th>\n",
       "      <td>2.0</td>\n",
       "    </tr>\n",
       "    <tr>\n",
       "      <th>2016-07-31</th>\n",
       "      <td>NaN</td>\n",
       "    </tr>\n",
       "    <tr>\n",
       "      <th>2016-08-31</th>\n",
       "      <td>NaN</td>\n",
       "    </tr>\n",
       "    <tr>\n",
       "      <th>2016-09-30</th>\n",
       "      <td>3.0</td>\n",
       "    </tr>\n",
       "    <tr>\n",
       "      <th>2016-10-31</th>\n",
       "      <td>NaN</td>\n",
       "    </tr>\n",
       "    <tr>\n",
       "      <th>2016-11-30</th>\n",
       "      <td>NaN</td>\n",
       "    </tr>\n",
       "    <tr>\n",
       "      <th>2016-12-31</th>\n",
       "      <td>4.0</td>\n",
       "    </tr>\n",
       "  </tbody>\n",
       "</table>\n",
       "</div>"
      ],
      "text/plain": [
       "            baseline\n",
       "2016-03-31       1.0\n",
       "2016-04-30       NaN\n",
       "2016-05-31       NaN\n",
       "2016-06-30       2.0\n",
       "2016-07-31       NaN\n",
       "2016-08-31       NaN\n",
       "2016-09-30       3.0\n",
       "2016-10-31       NaN\n",
       "2016-11-30       NaN\n",
       "2016-12-31       4.0"
      ]
     },
     "execution_count": 28,
     "metadata": {},
     "output_type": "execute_result"
    }
   ],
   "source": [
    "#Upsampling\n",
    "monthly = quarterly.asfreq(\"M\")\n",
    "monthly=monthly.to_frame(\"baseline\")\n",
    "monthly"
   ]
  },
  {
   "cell_type": "code",
   "execution_count": 29,
   "id": "a41e29fe",
   "metadata": {},
   "outputs": [],
   "source": [
    "#fill missing values"
   ]
  },
  {
   "cell_type": "code",
   "execution_count": 30,
   "id": "c16a77cf",
   "metadata": {},
   "outputs": [],
   "source": [
    "monthly[\"ffill\"] = quarterly.asfreq(\"M\", method=\"ffill\")\n",
    "monthly[\"bfill\"] = quarterly.asfreq(\"M\", method=\"bfill\")\n",
    "monthly[\"value\"] = quarterly.asfreq(\"M\", fill_value=0)"
   ]
  },
  {
   "cell_type": "code",
   "execution_count": 31,
   "id": "0b79bd50",
   "metadata": {},
   "outputs": [
    {
     "data": {
      "text/html": [
       "<div>\n",
       "<style scoped>\n",
       "    .dataframe tbody tr th:only-of-type {\n",
       "        vertical-align: middle;\n",
       "    }\n",
       "\n",
       "    .dataframe tbody tr th {\n",
       "        vertical-align: top;\n",
       "    }\n",
       "\n",
       "    .dataframe thead th {\n",
       "        text-align: right;\n",
       "    }\n",
       "</style>\n",
       "<table border=\"1\" class=\"dataframe\">\n",
       "  <thead>\n",
       "    <tr style=\"text-align: right;\">\n",
       "      <th></th>\n",
       "      <th>baseline</th>\n",
       "      <th>ffill</th>\n",
       "      <th>bfill</th>\n",
       "      <th>value</th>\n",
       "    </tr>\n",
       "  </thead>\n",
       "  <tbody>\n",
       "    <tr>\n",
       "      <th>2016-03-31</th>\n",
       "      <td>1.0</td>\n",
       "      <td>1</td>\n",
       "      <td>1</td>\n",
       "      <td>1</td>\n",
       "    </tr>\n",
       "    <tr>\n",
       "      <th>2016-04-30</th>\n",
       "      <td>NaN</td>\n",
       "      <td>1</td>\n",
       "      <td>2</td>\n",
       "      <td>0</td>\n",
       "    </tr>\n",
       "    <tr>\n",
       "      <th>2016-05-31</th>\n",
       "      <td>NaN</td>\n",
       "      <td>1</td>\n",
       "      <td>2</td>\n",
       "      <td>0</td>\n",
       "    </tr>\n",
       "    <tr>\n",
       "      <th>2016-06-30</th>\n",
       "      <td>2.0</td>\n",
       "      <td>2</td>\n",
       "      <td>2</td>\n",
       "      <td>2</td>\n",
       "    </tr>\n",
       "    <tr>\n",
       "      <th>2016-07-31</th>\n",
       "      <td>NaN</td>\n",
       "      <td>2</td>\n",
       "      <td>3</td>\n",
       "      <td>0</td>\n",
       "    </tr>\n",
       "    <tr>\n",
       "      <th>2016-08-31</th>\n",
       "      <td>NaN</td>\n",
       "      <td>2</td>\n",
       "      <td>3</td>\n",
       "      <td>0</td>\n",
       "    </tr>\n",
       "    <tr>\n",
       "      <th>2016-09-30</th>\n",
       "      <td>3.0</td>\n",
       "      <td>3</td>\n",
       "      <td>3</td>\n",
       "      <td>3</td>\n",
       "    </tr>\n",
       "    <tr>\n",
       "      <th>2016-10-31</th>\n",
       "      <td>NaN</td>\n",
       "      <td>3</td>\n",
       "      <td>4</td>\n",
       "      <td>0</td>\n",
       "    </tr>\n",
       "    <tr>\n",
       "      <th>2016-11-30</th>\n",
       "      <td>NaN</td>\n",
       "      <td>3</td>\n",
       "      <td>4</td>\n",
       "      <td>0</td>\n",
       "    </tr>\n",
       "    <tr>\n",
       "      <th>2016-12-31</th>\n",
       "      <td>4.0</td>\n",
       "      <td>4</td>\n",
       "      <td>4</td>\n",
       "      <td>4</td>\n",
       "    </tr>\n",
       "  </tbody>\n",
       "</table>\n",
       "</div>"
      ],
      "text/plain": [
       "            baseline  ffill  bfill  value\n",
       "2016-03-31       1.0      1      1      1\n",
       "2016-04-30       NaN      1      2      0\n",
       "2016-05-31       NaN      1      2      0\n",
       "2016-06-30       2.0      2      2      2\n",
       "2016-07-31       NaN      2      3      0\n",
       "2016-08-31       NaN      2      3      0\n",
       "2016-09-30       3.0      3      3      3\n",
       "2016-10-31       NaN      3      4      0\n",
       "2016-11-30       NaN      3      4      0\n",
       "2016-12-31       4.0      4      4      4"
      ]
     },
     "execution_count": 31,
     "metadata": {},
     "output_type": "execute_result"
    }
   ],
   "source": [
    "monthly"
   ]
  },
  {
   "cell_type": "code",
   "execution_count": 33,
   "id": "7cfb6814",
   "metadata": {},
   "outputs": [
    {
     "name": "stdout",
     "output_type": "stream",
     "text": [
      "2016-01-31    1\n",
      "2016-02-29    2\n",
      "Freq: M, dtype: int64\n",
      "2016-01-03    NaN\n",
      "2016-01-10    NaN\n",
      "2016-01-17    NaN\n",
      "2016-01-24    NaN\n",
      "2016-01-31    1.0\n",
      "2016-02-07    NaN\n",
      "2016-02-14    NaN\n",
      "2016-02-21    NaN\n",
      "2016-02-28    NaN\n",
      "Freq: W-SUN, dtype: float64\n",
      "2016-01-03    1\n",
      "2016-01-10    1\n",
      "2016-01-17    1\n",
      "2016-01-24    1\n",
      "2016-01-31    1\n",
      "2016-02-07    2\n",
      "2016-02-14    2\n",
      "2016-02-21    2\n",
      "2016-02-28    2\n",
      "Freq: W-SUN, dtype: int64\n",
      "2016-01-03    NaN\n",
      "2016-01-10    NaN\n",
      "2016-01-17    NaN\n",
      "2016-01-24    NaN\n",
      "2016-01-31    1.0\n",
      "2016-02-07    1.0\n",
      "2016-02-14    1.0\n",
      "2016-02-21    1.0\n",
      "2016-02-28    1.0\n",
      "Freq: W-SUN, dtype: float64\n"
     ]
    }
   ],
   "source": [
    "# Set start and end dates\n",
    "start = '2016-1-1'\n",
    "end = '2016-2-29'\n",
    "\n",
    "# Create monthly_dates here\n",
    "monthly_dates =  pd.date_range(start=start, end=end, freq='M')\n",
    "\n",
    "# Create and print monthly here\n",
    "monthly = pd.Series([1,2], index=monthly_dates)\n",
    "print(monthly)\n",
    "\n",
    "# Create weekly_dates here\n",
    "weekly_dates =  pd.date_range(start=start, end=end, freq='W')\n",
    "\n",
    "# Print monthly, reindexed using weekly_dates\n",
    "print(monthly.reindex(weekly_dates))\n",
    "print(monthly.reindex(weekly_dates,method=\"bfill\"))\n",
    "print(monthly.reindex(weekly_dates,method=\"ffill\"))\n"
   ]
  },
  {
   "cell_type": "code",
   "execution_count": null,
   "id": "af0a36d2",
   "metadata": {},
   "outputs": [],
   "source": [
    "#Upsampling & interpolation with .resample()\n"
   ]
  },
  {
   "cell_type": "code",
   "execution_count": 42,
   "id": "9d3d2b12",
   "metadata": {},
   "outputs": [
    {
     "name": "stdout",
     "output_type": "stream",
     "text": [
      "<class 'pandas.core.frame.DataFrame'>\n",
      "DatetimeIndex: 85 entries, 2010-01-01 to 2017-01-01\n",
      "Data columns (total 1 columns):\n",
      " #   Column  Non-Null Count  Dtype  \n",
      "---  ------  --------------  -----  \n",
      " 0   UNRATE  85 non-null     float64\n",
      "dtypes: float64(1)\n",
      "memory usage: 1.3 KB\n"
     ]
    }
   ],
   "source": [
    "unrate = pd.read_csv(\"data/unrate.csv\", parse_dates=[\"DATE\"], index_col=\"DATE\")\n",
    "unrate.info()"
   ]
  },
  {
   "cell_type": "code",
   "execution_count": 43,
   "id": "88a50f65",
   "metadata": {},
   "outputs": [
    {
     "data": {
      "text/html": [
       "<div>\n",
       "<style scoped>\n",
       "    .dataframe tbody tr th:only-of-type {\n",
       "        vertical-align: middle;\n",
       "    }\n",
       "\n",
       "    .dataframe tbody tr th {\n",
       "        vertical-align: top;\n",
       "    }\n",
       "\n",
       "    .dataframe thead th {\n",
       "        text-align: right;\n",
       "    }\n",
       "</style>\n",
       "<table border=\"1\" class=\"dataframe\">\n",
       "  <thead>\n",
       "    <tr style=\"text-align: right;\">\n",
       "      <th></th>\n",
       "      <th>UNRATE</th>\n",
       "    </tr>\n",
       "    <tr>\n",
       "      <th>DATE</th>\n",
       "      <th></th>\n",
       "    </tr>\n",
       "  </thead>\n",
       "  <tbody>\n",
       "    <tr>\n",
       "      <th>2010-01-01</th>\n",
       "      <td>9.8</td>\n",
       "    </tr>\n",
       "    <tr>\n",
       "      <th>2010-02-01</th>\n",
       "      <td>9.8</td>\n",
       "    </tr>\n",
       "    <tr>\n",
       "      <th>2010-03-01</th>\n",
       "      <td>9.9</td>\n",
       "    </tr>\n",
       "    <tr>\n",
       "      <th>2010-04-01</th>\n",
       "      <td>9.9</td>\n",
       "    </tr>\n",
       "    <tr>\n",
       "      <th>2010-05-01</th>\n",
       "      <td>9.6</td>\n",
       "    </tr>\n",
       "  </tbody>\n",
       "</table>\n",
       "</div>"
      ],
      "text/plain": [
       "            UNRATE\n",
       "DATE              \n",
       "2010-01-01     9.8\n",
       "2010-02-01     9.8\n",
       "2010-03-01     9.9\n",
       "2010-04-01     9.9\n",
       "2010-05-01     9.6"
      ]
     },
     "execution_count": 43,
     "metadata": {},
     "output_type": "execute_result"
    }
   ],
   "source": [
    "unrate.head()"
   ]
  },
  {
   "cell_type": "code",
   "execution_count": 46,
   "id": "f84b058c",
   "metadata": {},
   "outputs": [
    {
     "data": {
      "text/plain": [
       "<pandas.core.resample.DatetimeIndexResampler object at 0x000001B5FB9F3B20>"
      ]
     },
     "execution_count": 46,
     "metadata": {},
     "output_type": "execute_result"
    }
   ],
   "source": [
    "unrate.resample(\"MS\")"
   ]
  },
  {
   "cell_type": "code",
   "execution_count": 48,
   "id": "711095b6",
   "metadata": {},
   "outputs": [
    {
     "data": {
      "text/plain": [
       "True"
      ]
     },
     "execution_count": 48,
     "metadata": {},
     "output_type": "execute_result"
    }
   ],
   "source": [
    "unrate.asfreq(\"MS\").equals(unrate.resample(\"MS\").asfreq())"
   ]
  },
  {
   "cell_type": "code",
   "execution_count": null,
   "id": "d39bdbb5",
   "metadata": {},
   "outputs": [],
   "source": []
  },
  {
   "cell_type": "code",
   "execution_count": 51,
   "id": "5a6e6fe1",
   "metadata": {},
   "outputs": [],
   "source": [
    "gdp = pd.read_csv(\"data/gdp_growth.csv\",parse_dates=[\"date\"],index_col=\"date\")"
   ]
  },
  {
   "cell_type": "code",
   "execution_count": 55,
   "id": "a08e3683",
   "metadata": {},
   "outputs": [
    {
     "data": {
      "text/html": [
       "<div>\n",
       "<style scoped>\n",
       "    .dataframe tbody tr th:only-of-type {\n",
       "        vertical-align: middle;\n",
       "    }\n",
       "\n",
       "    .dataframe tbody tr th {\n",
       "        vertical-align: top;\n",
       "    }\n",
       "\n",
       "    .dataframe thead th {\n",
       "        text-align: right;\n",
       "    }\n",
       "</style>\n",
       "<table border=\"1\" class=\"dataframe\">\n",
       "  <thead>\n",
       "    <tr style=\"text-align: right;\">\n",
       "      <th></th>\n",
       "      <th>gdp_growth</th>\n",
       "    </tr>\n",
       "    <tr>\n",
       "      <th>date</th>\n",
       "      <th></th>\n",
       "    </tr>\n",
       "  </thead>\n",
       "  <tbody>\n",
       "    <tr>\n",
       "      <th>2007-01-01</th>\n",
       "      <td>0.2</td>\n",
       "    </tr>\n",
       "    <tr>\n",
       "      <th>2007-04-01</th>\n",
       "      <td>3.1</td>\n",
       "    </tr>\n",
       "    <tr>\n",
       "      <th>2007-07-01</th>\n",
       "      <td>2.7</td>\n",
       "    </tr>\n",
       "    <tr>\n",
       "      <th>2007-10-01</th>\n",
       "      <td>1.4</td>\n",
       "    </tr>\n",
       "    <tr>\n",
       "      <th>2008-01-01</th>\n",
       "      <td>-2.7</td>\n",
       "    </tr>\n",
       "    <tr>\n",
       "      <th>2008-04-01</th>\n",
       "      <td>2.0</td>\n",
       "    </tr>\n",
       "    <tr>\n",
       "      <th>2008-07-01</th>\n",
       "      <td>-1.9</td>\n",
       "    </tr>\n",
       "    <tr>\n",
       "      <th>2008-10-01</th>\n",
       "      <td>-8.2</td>\n",
       "    </tr>\n",
       "    <tr>\n",
       "      <th>2009-01-01</th>\n",
       "      <td>-5.4</td>\n",
       "    </tr>\n",
       "    <tr>\n",
       "      <th>2009-04-01</th>\n",
       "      <td>-0.5</td>\n",
       "    </tr>\n",
       "  </tbody>\n",
       "</table>\n",
       "</div>"
      ],
      "text/plain": [
       "            gdp_growth\n",
       "date                  \n",
       "2007-01-01         0.2\n",
       "2007-04-01         3.1\n",
       "2007-07-01         2.7\n",
       "2007-10-01         1.4\n",
       "2008-01-01        -2.7\n",
       "2008-04-01         2.0\n",
       "2008-07-01        -1.9\n",
       "2008-10-01        -8.2\n",
       "2009-01-01        -5.4\n",
       "2009-04-01        -0.5"
      ]
     },
     "execution_count": 55,
     "metadata": {},
     "output_type": "execute_result"
    }
   ],
   "source": [
    "gdp.head(10)"
   ]
  },
  {
   "cell_type": "code",
   "execution_count": 56,
   "id": "3ea966d7",
   "metadata": {},
   "outputs": [
    {
     "name": "stdout",
     "output_type": "stream",
     "text": [
      "<class 'pandas.core.frame.DataFrame'>\n",
      "DatetimeIndex: 41 entries, 2007-01-01 to 2017-01-01\n",
      "Data columns (total 1 columns):\n",
      " #   Column      Non-Null Count  Dtype  \n",
      "---  ------      --------------  -----  \n",
      " 0   gdp_growth  41 non-null     float64\n",
      "dtypes: float64(1)\n",
      "memory usage: 656.0 bytes\n"
     ]
    }
   ],
   "source": [
    "gdp.info()"
   ]
  },
  {
   "cell_type": "code",
   "execution_count": 59,
   "id": "b640fb47",
   "metadata": {},
   "outputs": [
    {
     "data": {
      "text/html": [
       "<div>\n",
       "<style scoped>\n",
       "    .dataframe tbody tr th:only-of-type {\n",
       "        vertical-align: middle;\n",
       "    }\n",
       "\n",
       "    .dataframe tbody tr th {\n",
       "        vertical-align: top;\n",
       "    }\n",
       "\n",
       "    .dataframe thead th {\n",
       "        text-align: right;\n",
       "    }\n",
       "</style>\n",
       "<table border=\"1\" class=\"dataframe\">\n",
       "  <thead>\n",
       "    <tr style=\"text-align: right;\">\n",
       "      <th></th>\n",
       "      <th>gdp_growth_ffill</th>\n",
       "    </tr>\n",
       "    <tr>\n",
       "      <th>date</th>\n",
       "      <th></th>\n",
       "    </tr>\n",
       "  </thead>\n",
       "  <tbody>\n",
       "    <tr>\n",
       "      <th>2007-01-01</th>\n",
       "      <td>0.2</td>\n",
       "    </tr>\n",
       "    <tr>\n",
       "      <th>2007-02-01</th>\n",
       "      <td>0.2</td>\n",
       "    </tr>\n",
       "    <tr>\n",
       "      <th>2007-03-01</th>\n",
       "      <td>0.2</td>\n",
       "    </tr>\n",
       "    <tr>\n",
       "      <th>2007-04-01</th>\n",
       "      <td>3.1</td>\n",
       "    </tr>\n",
       "    <tr>\n",
       "      <th>2007-05-01</th>\n",
       "      <td>3.1</td>\n",
       "    </tr>\n",
       "    <tr>\n",
       "      <th>...</th>\n",
       "      <td>...</td>\n",
       "    </tr>\n",
       "    <tr>\n",
       "      <th>2016-09-01</th>\n",
       "      <td>3.5</td>\n",
       "    </tr>\n",
       "    <tr>\n",
       "      <th>2016-10-01</th>\n",
       "      <td>2.1</td>\n",
       "    </tr>\n",
       "    <tr>\n",
       "      <th>2016-11-01</th>\n",
       "      <td>2.1</td>\n",
       "    </tr>\n",
       "    <tr>\n",
       "      <th>2016-12-01</th>\n",
       "      <td>2.1</td>\n",
       "    </tr>\n",
       "    <tr>\n",
       "      <th>2017-01-01</th>\n",
       "      <td>1.4</td>\n",
       "    </tr>\n",
       "  </tbody>\n",
       "</table>\n",
       "<p>121 rows × 1 columns</p>\n",
       "</div>"
      ],
      "text/plain": [
       "            gdp_growth_ffill\n",
       "date                        \n",
       "2007-01-01               0.2\n",
       "2007-02-01               0.2\n",
       "2007-03-01               0.2\n",
       "2007-04-01               3.1\n",
       "2007-05-01               3.1\n",
       "...                      ...\n",
       "2016-09-01               3.5\n",
       "2016-10-01               2.1\n",
       "2016-11-01               2.1\n",
       "2016-12-01               2.1\n",
       "2017-01-01               1.4\n",
       "\n",
       "[121 rows x 1 columns]"
      ]
     },
     "execution_count": 59,
     "metadata": {},
     "output_type": "execute_result"
    }
   ],
   "source": [
    "gdp_1 = gdp.resample(\"MS\").ffill().add_suffix(\"_ffill\")\n",
    "gdp_1"
   ]
  },
  {
   "cell_type": "code",
   "execution_count": 60,
   "id": "fc1a9769",
   "metadata": {},
   "outputs": [
    {
     "data": {
      "text/html": [
       "<div>\n",
       "<style scoped>\n",
       "    .dataframe tbody tr th:only-of-type {\n",
       "        vertical-align: middle;\n",
       "    }\n",
       "\n",
       "    .dataframe tbody tr th {\n",
       "        vertical-align: top;\n",
       "    }\n",
       "\n",
       "    .dataframe thead th {\n",
       "        text-align: right;\n",
       "    }\n",
       "</style>\n",
       "<table border=\"1\" class=\"dataframe\">\n",
       "  <thead>\n",
       "    <tr style=\"text-align: right;\">\n",
       "      <th></th>\n",
       "      <th>gdp_growth_inter</th>\n",
       "    </tr>\n",
       "    <tr>\n",
       "      <th>date</th>\n",
       "      <th></th>\n",
       "    </tr>\n",
       "  </thead>\n",
       "  <tbody>\n",
       "    <tr>\n",
       "      <th>2007-01-01</th>\n",
       "      <td>0.200000</td>\n",
       "    </tr>\n",
       "    <tr>\n",
       "      <th>2007-02-01</th>\n",
       "      <td>1.166667</td>\n",
       "    </tr>\n",
       "    <tr>\n",
       "      <th>2007-03-01</th>\n",
       "      <td>2.133333</td>\n",
       "    </tr>\n",
       "    <tr>\n",
       "      <th>2007-04-01</th>\n",
       "      <td>3.100000</td>\n",
       "    </tr>\n",
       "    <tr>\n",
       "      <th>2007-05-01</th>\n",
       "      <td>2.966667</td>\n",
       "    </tr>\n",
       "    <tr>\n",
       "      <th>...</th>\n",
       "      <td>...</td>\n",
       "    </tr>\n",
       "    <tr>\n",
       "      <th>2016-09-01</th>\n",
       "      <td>2.566667</td>\n",
       "    </tr>\n",
       "    <tr>\n",
       "      <th>2016-10-01</th>\n",
       "      <td>2.100000</td>\n",
       "    </tr>\n",
       "    <tr>\n",
       "      <th>2016-11-01</th>\n",
       "      <td>1.866667</td>\n",
       "    </tr>\n",
       "    <tr>\n",
       "      <th>2016-12-01</th>\n",
       "      <td>1.633333</td>\n",
       "    </tr>\n",
       "    <tr>\n",
       "      <th>2017-01-01</th>\n",
       "      <td>1.400000</td>\n",
       "    </tr>\n",
       "  </tbody>\n",
       "</table>\n",
       "<p>121 rows × 1 columns</p>\n",
       "</div>"
      ],
      "text/plain": [
       "            gdp_growth_inter\n",
       "date                        \n",
       "2007-01-01          0.200000\n",
       "2007-02-01          1.166667\n",
       "2007-03-01          2.133333\n",
       "2007-04-01          3.100000\n",
       "2007-05-01          2.966667\n",
       "...                      ...\n",
       "2016-09-01          2.566667\n",
       "2016-10-01          2.100000\n",
       "2016-11-01          1.866667\n",
       "2016-12-01          1.633333\n",
       "2017-01-01          1.400000\n",
       "\n",
       "[121 rows x 1 columns]"
      ]
     },
     "execution_count": 60,
     "metadata": {},
     "output_type": "execute_result"
    }
   ],
   "source": [
    "gdp_2 = gdp.resample(\"MS\").interpolate().add_suffix(\"_inter\")\n",
    "gdp_2"
   ]
  },
  {
   "cell_type": "code",
   "execution_count": null,
   "id": "9a398372",
   "metadata": {},
   "outputs": [],
   "source": []
  }
 ],
 "metadata": {
  "kernelspec": {
   "display_name": "Python 3 (ipykernel)",
   "language": "python",
   "name": "python3"
  },
  "language_info": {
   "codemirror_mode": {
    "name": "ipython",
    "version": 3
   },
   "file_extension": ".py",
   "mimetype": "text/x-python",
   "name": "python",
   "nbconvert_exporter": "python",
   "pygments_lexer": "ipython3",
   "version": "3.9.12"
  }
 },
 "nbformat": 4,
 "nbformat_minor": 5
}
